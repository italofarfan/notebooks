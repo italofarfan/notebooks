{
 "cells": [
  {
   "cell_type": "markdown",
   "metadata": {
    "slideshow": {
     "slide_type": "slide"
    }
   },
   "source": [
    "# Impacto del Big Data en nuestras vidas\n",
    "\n",
    "Algeciras, 30 de abril de 2015\n",
    "\n",
    "\\#bbESTR\n"
   ]
  },
  {
   "cell_type": "markdown",
   "metadata": {
    "slideshow": {
     "slide_type": "slide"
    }
   },
   "source": [
    "## ¿Quién soy?\n",
    "\n",
    "* Italo Farfán Vera - [@italoFarve](https://twitter.com/italoFarVe)\n",
    "* Msc. Inteligencia Artificial (UPM)\n",
    "* Bsc. Ingeniería Electrónica (UTP)\n",
    "* Emprendedor (Viz Analytics)"
   ]
  },
  {
   "cell_type": "markdown",
   "metadata": {
    "slideshow": {
     "slide_type": "slide"
    }
   },
   "source": [
    "## Big Data\n"
   ]
  },
  {
   "cell_type": "code",
   "execution_count": 1,
   "metadata": {
    "collapsed": false,
    "slideshow": {
     "slide_type": "fragment"
    }
   },
   "outputs": [
    {
     "data": {
      "text/html": [
       "\n",
       "        <iframe\n",
       "            width=\"400\"\n",
       "            height=\"300\"\n",
       "            src=\"https://www.youtube.com/embed/FJrRhEvP3EE\"\n",
       "            frameborder=\"0\"\n",
       "            allowfullscreen\n",
       "        ></iframe>\n",
       "        "
      ],
      "text/plain": [
       "<IPython.lib.display.YouTubeVideo at 0x7fe888294320>"
      ]
     },
     "execution_count": 1,
     "metadata": {},
     "output_type": "execute_result"
    }
   ],
   "source": [
    "from IPython.display import YouTubeVideo\n",
    "YouTubeVideo('FJrRhEvP3EE')\n",
    "# Fuente: https://www.youtube.com/watch?v=FJrRhEvP3EE"
   ]
  },
  {
   "cell_type": "markdown",
   "metadata": {
    "slideshow": {
     "slide_type": "slide"
    }
   },
   "source": [
    "## Universo digital"
   ]
  },
  {
   "cell_type": "markdown",
   "metadata": {
    "slideshow": {
     "slide_type": "fragment"
    }
   },
   "source": [
    "<img src=\"figs/bigdata-g.jpg\" width=\"600\">"
   ]
  },
  {
   "cell_type": "markdown",
   "metadata": {
    "slideshow": {
     "slide_type": "slide"
    }
   },
   "source": [
    "<img src=\"figs/zettabyte.jpg\" width=\"300\">"
   ]
  },
  {
   "cell_type": "markdown",
   "metadata": {
    "slideshow": {
     "slide_type": "slide"
    }
   },
   "source": [
    "## ¿5V?"
   ]
  },
  {
   "cell_type": "markdown",
   "metadata": {
    "slideshow": {
     "slide_type": "fragment"
    }
   },
   "source": [
    "* Volumen\n",
    "* Velocidad\n",
    "* Variedad"
   ]
  },
  {
   "cell_type": "markdown",
   "metadata": {
    "slideshow": {
     "slide_type": "fragment"
    }
   },
   "source": [
    "* Veracidad\n",
    "* Valor"
   ]
  },
  {
   "cell_type": "markdown",
   "metadata": {
    "slideshow": {
     "slide_type": "slide"
    }
   },
   "source": [
    "### Qué es Big Data?\n",
    "\n",
    "<img src=\"figs/BigData-wordcloud-2.png\" width=\"500\">\n",
    "Más info: http://datascience.berkeley.edu/what-is-big-data/"
   ]
  },
  {
   "cell_type": "markdown",
   "metadata": {
    "slideshow": {
     "slide_type": "slide"
    }
   },
   "source": [
    "## La tecnología seguirá progresando\n",
    "\n",
    "![evolution](figs/neural-networks-and-deep-learning-for-physicists-4-638.jpg)\n",
    "\n",
    "Fuente: http://www.slideshare.net/HloseNonne/2015-0219-deeplearningpublic"
   ]
  },
  {
   "cell_type": "markdown",
   "metadata": {
    "slideshow": {
     "slide_type": "slide"
    }
   },
   "source": [
    "## Ejemplos"
   ]
  },
  {
   "cell_type": "markdown",
   "metadata": {
    "slideshow": {
     "slide_type": "slide"
    }
   },
   "source": [
    "### Política \n",
    "![política](figs/facebook.jpg)\n",
    "\n",
    "Fuente: http://spain.emc.com/information-generation/index.htm"
   ]
  },
  {
   "cell_type": "markdown",
   "metadata": {
    "slideshow": {
     "slide_type": "slide"
    }
   },
   "source": [
    "### Campaña Obama 2012\n",
    "\n",
    "* Inversión: 1 millón de dólares, grupo de 40 ingenieros (provenientes de Twitter, Facebook, Google,...)\n",
    "* Identificaron 16 millones de perfiles de votantes.\n",
    "* 62 000 simulaciones por computador.\n",
    "* Cambiaron el comportamiento de 80% de los votantes indecisos.\n",
    "* Predijeron el resultado (Exactitud = 0.5%)\n",
    "\n",
    "Fuente: https://www.youtube.com/watch?v=BSCYR8H5mVE"
   ]
  },
  {
   "cell_type": "markdown",
   "metadata": {
    "slideshow": {
     "slide_type": "slide"
    }
   },
   "source": [
    "### Estadística\n",
    "\n",
    "![estadística](figs/FluUS.png)\n",
    "Fuente: https://www.google.org/flutrends/about/how.html"
   ]
  },
  {
   "cell_type": "markdown",
   "metadata": {
    "slideshow": {
     "slide_type": "slide"
    }
   },
   "source": [
    "### Estadística\n",
    "![estadística](figs/flu-france.png)\n",
    "Fuente: https://www.google.org/flutrends/about/how.html"
   ]
  },
  {
   "cell_type": "markdown",
   "metadata": {
    "slideshow": {
     "slide_type": "slide"
    }
   },
   "source": [
    "### Estadística\n",
    "![estadística](figs/flu-es.png)\n",
    "Fuente: https://www.google.org/flutrends/about/how.html"
   ]
  },
  {
   "cell_type": "markdown",
   "metadata": {
    "slideshow": {
     "slide_type": "slide"
    }
   },
   "source": [
    "### Homophily - Political blogs\n",
    "\n",
    "\"Homophily is a term that comes out of network theory which essentially means “birds of a feather flock together.”\n",
    "![Homophily - Political blogs](figs/political-blogosphere.jpg)\n",
    "Fuente: https://jewishfutures.wordpress.com/2013/11/19/on-confirmation-bias-or-the-tyranny-of-homophily/"
   ]
  },
  {
   "cell_type": "markdown",
   "metadata": {
    "slideshow": {
     "slide_type": "slide"
    }
   },
   "source": [
    "### Homophily – High school friendships\n",
    "\n",
    "<img src=\"figs/higschool.gif\" width=\"500\">\n",
    "Fuente: http://social-dynamics.org/homophily/"
   ]
  },
  {
   "cell_type": "markdown",
   "metadata": {
    "slideshow": {
     "slide_type": "slide"
    }
   },
   "source": [
    "### Predicciones\n",
    "\n",
    "* Amazon, reemplazó críticos de libros por algoritmos. 1/3 de las ventas proviene de las recomendaciones. \n",
    "* Netflix, 3/4 de las nuevas ventas provienen de las recomendaciones.\n",
    "* Google, resolvió el problema de la traducción automática en los últimos dos años.\n",
    "\n",
    "Fuente: http://spain.emc.com/information-generation/index.htm"
   ]
  },
  {
   "cell_type": "markdown",
   "metadata": {
    "slideshow": {
     "slide_type": "slide"
    }
   },
   "source": [
    "### Transporte\n",
    "\n",
    "<img src=\"figs/aeropuerto-de-san-diego.jpg\" width=\"500\" >\n",
    "Imagen: http://imagenesfotos.com/time-lapse-del-aeropuerto-internacional-de-san-diego/"
   ]
  },
  {
   "cell_type": "markdown",
   "metadata": {
    "slideshow": {
     "slide_type": "slide"
    }
   },
   "source": [
    "### Transporte\n",
    "\n",
    "* 10 % de vuelos retrasados (8 Millones de dólares)\n",
    "* Sólo en USA se pueden prevenir 60 000 retrasos y cancelaciones (7 millones de pasajeros)\n",
    "\n",
    "Fuente: https://www.ted.com/talks/marco_annunziata_welcome_to_the_age_of_the_industrial_internet"
   ]
  },
  {
   "cell_type": "markdown",
   "metadata": {
    "slideshow": {
     "slide_type": "slide"
    }
   },
   "source": [
    "### Medicina\n",
    "![Medicina](figs/hospital.jpeg)\n",
    "Imagen: http://www.juntadeandalucia.es/servicioandaluzdesalud/hpm/servicioandaluzdesalud/hpm2/puertadelmar/web/guest"
   ]
  },
  {
   "cell_type": "markdown",
   "metadata": {
    "slideshow": {
     "slide_type": "slide"
    }
   },
   "source": [
    "### Medicina\n",
    "\n",
    "#### Reducir el 1 % de las actuales ineficiencias ahorraría 60 millones a la industria de salud mundial.\n",
    "Fuente: https://www.ted.com/talks/marco_annunziata_welcome_to_the_age_of_the_industrial_internet"
   ]
  },
  {
   "cell_type": "markdown",
   "metadata": {
    "slideshow": {
     "slide_type": "slide"
    }
   },
   "source": [
    "### Artificial Intelligence – Machine Learning\n",
    "\n",
    "<img src=\"figs/cancer.png\" width=\"500\">\n",
    "Fuente: https://www.ted.com/talks/kenneth_cukier_big_data_is_better_data"
   ]
  },
  {
   "cell_type": "markdown",
   "metadata": {
    "slideshow": {
     "slide_type": "slide"
    }
   },
   "source": [
    "### Artificial Intelligence – Machine Learning\n",
    "\n",
    "\"The machine was able to identify the 12 telltale signs that best predict that this biopsy of the breast cancer cells are indeed cancerous. The problem: The medical literature only knew nine of them\".\n",
    "\n",
    "Fuente: https://www.ted.com/talks/kenneth_cukier_big_data_is_better_data"
   ]
  },
  {
   "cell_type": "markdown",
   "metadata": {
    "slideshow": {
     "slide_type": "slide"
    }
   },
   "source": [
    "### The Information Generation"
   ]
  },
  {
   "cell_type": "code",
   "execution_count": 8,
   "metadata": {
    "collapsed": false,
    "slideshow": {
     "slide_type": "fragment"
    }
   },
   "outputs": [
    {
     "data": {
      "text/html": [
       "\n",
       "        <iframe\n",
       "            width=\"400\"\n",
       "            height=\"300\"\n",
       "            src=\"https://www.youtube.com/embed/Rrdv5ctOqnM\"\n",
       "            frameborder=\"0\"\n",
       "            allowfullscreen\n",
       "        ></iframe>\n",
       "        "
      ],
      "text/plain": [
       "<IPython.lib.display.YouTubeVideo at 0x7fe8825ac908>"
      ]
     },
     "execution_count": 8,
     "metadata": {},
     "output_type": "execute_result"
    }
   ],
   "source": [
    "YouTubeVideo('Rrdv5ctOqnM')\n",
    "# Fuente: https://www.youtube.com/watch?v=Rrdv5ctOqnM"
   ]
  },
  {
   "cell_type": "markdown",
   "metadata": {
    "slideshow": {
     "slide_type": "slide"
    }
   },
   "source": [
    "### Cinco capacidades empresariales que marcarán la diferencia entre el éxito y el fracaso\n",
    "\n",
    "* Detectar de forma predictiva nuevas oportunidades en los mercados.\n",
    "* Demostrar transparencia y confianza.\n",
    "* Innovar de forma ágil.\n",
    "* Entregar experiencias únicas y personalizadas.\n",
    "* Operar en tiempo real.\n",
    "\n",
    "Fuente: https://www.centrodeinnovacionbbva.com/noticias/una-de-cada-dos-empresas-reconoce-que-no-sabe-obtener-valor-de-los-datos"
   ]
  },
  {
   "cell_type": "markdown",
   "metadata": {
    "slideshow": {
     "slide_type": "slide"
    }
   },
   "source": [
    "### Cinco capacidades empresariales que marcarán la diferencia entre el éxito y el fracaso\n",
    "* Detectar de forma predictiva nuevas oportunidades en los mercados. *12%*\n",
    "* Demostrar transparencia y confianza. *14%*\n",
    "* Innovar de forma ágil. *9%*\n",
    "* Entregar experiencias únicas y personalizadas. *11%*\n",
    "* Operar en tiempo real. *12%*\n",
    "\n",
    "Fuente: https://www.centrodeinnovacionbbva.com/noticias/una-de-cada-dos-empresas-reconoce-que-no-sabe-obtener-valor-de-los-datos"
   ]
  },
  {
   "cell_type": "markdown",
   "metadata": {
    "slideshow": {
     "slide_type": "slide"
    }
   },
   "source": [
    "## @italoFarVe\n",
    "\n",
    "# Gracias"
   ]
  }
 ],
 "metadata": {
  "celltoolbar": "Slideshow",
  "kernelspec": {
   "display_name": "Python 3",
   "language": "python",
   "name": "python3"
  },
  "language_info": {
   "codemirror_mode": {
    "name": "ipython",
    "version": 3
   },
   "file_extension": ".py",
   "mimetype": "text/x-python",
   "name": "python",
   "nbconvert_exporter": "python",
   "pygments_lexer": "ipython3",
   "version": "3.4.3"
  }
 },
 "nbformat": 4,
 "nbformat_minor": 0
}
